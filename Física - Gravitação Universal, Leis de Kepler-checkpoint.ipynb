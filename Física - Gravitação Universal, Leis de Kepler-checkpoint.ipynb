{
 "cells": [
  {
   "cell_type": "markdown",
   "metadata": {},
   "source": [
    "# Leis de Kepler\n",
    "\n",
    "### Primeira Lei de Kepler - Lei das Órbitas\n",
    "\n",
    "Os planetas descrevem órbitas elípticas em torno do sol, que fica em um dos focos desta elipse.\n",
    "\n",
    "### Segunda Lei de Kepler - Lei das Áreas\n",
    "\n",
    "O segmento que une o centro do sol e um planeta varre áreas iguais em intervalos de tempos iguais.\n",
    "\n",
    "**Implicações:**\n",
    "\n",
    "* Pela Segunda Lei de Kepler, mesmo se as áreas não forem iguais, o intervalo de tempo para o planeta descrever um arco é igual ao tempo para percorrer o outro, devido à distância do foco da elipse onde se localiza a estrela.\n",
    "\n",
    "\n",
    "* Pode-se perceber que os planetas não mantêm a uma velocidade constante em torno do sol, pois para que o planeta percorra duas áreas distintas numa elipse, sendo elas referentes a um dos focos, em tempos iguais, é necessário que a velocidade do arco de maior comprimento seja maior.\n",
    "\n",
    "### Terceira Lei de Kepler - Lei dos Períodos\n",
    "\n",
    " $$ \\frac {Período^2} {RaioMédio^3} = K $$\n",
    " \n",
    "Sendo que o *Raio Médio* pode ser obtido a partir de:\n",
    "\n",
    "$$ RaioMédio = \\frac {dA+dB}{2} $$\n",
    "\n",
    "**Implicações:**\n",
    "\n",
    "* Analisando esta lei, nota-se que, quanto maior a distância de um planeta em relação ao sol, maior será seu período, ou seja, o tempo necessário para translação.\n",
    "\n",
    "### Lei da Gravitação Universal\n",
    "\n",
    "$$ F = ConstanteGravitacional . \\frac {MassaMaior.MassaMenor}{d^2} $$\n",
    "\n",
    "**Implicações:**\n",
    "\n",
    "Todo corpo, independente da distância, exerce uma determinada força de atração sobre outro corpo, independendendo também de sua massa. Ocorre, que devido à grandeza dos números e a elevada distância, a atração chega a ser infinitesimal, podendo ser desconsiderada em diversos casos.\n",
    "\n",
    "## Campo gravitacional\n",
    "\n",
    "### Aceleração da gravidade\n",
    "\n",
    "* **Força gravitacional no interior de um corpo celeste ou sobre a sua superfície**\n",
    "\n",
    "$$ ForçaGravitacional = ConstanteGravitacional . \\frac {MassaMaior}{Raio^3} $$\n",
    "\n",
    "* **Força gravitacional a uma altura h da superfície do planeta**\n",
    "\n",
    "$$ ForçaGravitacional = \\frac {ConstanteGravitacional . MassaMaior} {(Raio + Altura)^2} $$\n",
    "\n",
    "**Nota do executor:** A *Massa Maior* presente nas fórmulas da subdivisão do *Campo Gravitacional* neste notebook é a massa do corpo celeste."
   ]
  }
 ],
 "metadata": {
  "anaconda-cloud": {},
  "kernelspec": {
   "display_name": "Python [conda root]",
   "language": "python",
   "name": "conda-root-py"
  },
  "language_info": {
   "codemirror_mode": {
    "name": "ipython",
    "version": 3
   },
   "file_extension": ".py",
   "mimetype": "text/x-python",
   "name": "python",
   "nbconvert_exporter": "python",
   "pygments_lexer": "ipython3",
   "version": "3.5.2"
  }
 },
 "nbformat": 4,
 "nbformat_minor": 1
}
